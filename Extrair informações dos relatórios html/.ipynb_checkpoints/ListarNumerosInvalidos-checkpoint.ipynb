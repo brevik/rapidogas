{
 "cells": [
  {
   "cell_type": "markdown",
   "metadata": {},
   "source": [
    "# Programa destinado à registrar os números inválidos nos relatórios emitidos pelo sistema de envio de mensagens"
   ]
  },
  {
   "cell_type": "code",
   "execution_count": 28,
   "metadata": {},
   "outputs": [],
   "source": [
    "import pandas as pd\n",
    "import os\n",
    "\n",
    "\n",
    "def lerNumerosInvalidos():\n",
    "    with open(\"invalidos.txt\", \"r\") as aq:\n",
    "        listaInvalidos = aq.readlines()\n",
    "    return listaInvalidos\n",
    "\n",
    "\n",
    "def salvarNumeros(lista):\n",
    "    with open(\"invalidos.txt\", \"a\") as x:\n",
    "        for i in lista:\n",
    "            x.write(i+'\\n')\n",
    "\n",
    "\n",
    "###Verifica se certo 'numero' estar contindo na lista de números inválidos 'listaNumeros'\n",
    "def numeroSalvo(listaNumeros, numero):\n",
    "    for item in listaNumeros:\n",
    "        if numero in item:\n",
    "            return True\n",
    "        \n",
    "    return False\n",
    "\n",
    "\n",
    "#RETORNA UMA LISTA COM OS NOMES DOS ARQUIVOS DE MESMA EXTENSÃO EM UMA PASTA\n",
    "#ENTRADA:\n",
    "# (caminhoArquivos - string) - Local dos arquivos \n",
    "# (extensaoArquivo - string) - extensão do arquivo  EX: txt, xlsx \n",
    "#SAÍDA:\n",
    "#Lista com os nomes dos arquivos\n",
    "def listarNomeArquivos(caminhoArquivos, extensaoArquivo):\n",
    "    listaArquivos = os.listdir(caminhoArquivos) #lista todos arquivos da pasta\n",
    "    nomesArquivos = []\n",
    "    for l in listaArquivos:\n",
    "        if extensaoArquivo in l: #lista arquivos de determinada extensão\n",
    "            nomesArquivos.append(caminhoArquivos + \"/\" + l)\n",
    "           \n",
    "    return nomesArquivos\n",
    "\n",
    "\n",
    "###EXTRAI INFORMAÇÕES DO RELATÓRIO 'HTML' E GERA LISTA DE NÚMEROS INVÁLIDOS\n",
    "##ENTRADA:\n",
    "# (arquivoHtml - string) - caminho completo do relatório em html emitido pelo sistema\n",
    "##SAÍDA:\n",
    "# (listaInvalidos - list) - lista de números inválidos \n",
    "# (qntInclusoes - int) - Quantidade de novos números inválidos incluidos na lista \n",
    "def listarNumerosInvalidos(arquivoHtml):\n",
    "    df = pd.read_html(arquivoHtml)\n",
    "    listaInvalidos = []\n",
    "    qntInclusoes = 0\n",
    "    listaSalva = lerNumerosInvalidos()\n",
    "    for i,item in enumerate(df[2][\"Status\"]):\n",
    "        if \"Falhou\" in item:\n",
    "            n = str(df[2][\"Número\"][i])[2:]\n",
    "            if not(numeroSalvo(listaSalva, n)):\n",
    "                qntInclusoes += 1\n",
    "                listaInvalidos.append(n)\n",
    "    \n",
    "    return listaInvalidos, qntInclusoes\n",
    "\n",
    "\n",
    "\n",
    "def executar():\n",
    "    localRelatorios = r\"C:\\Users\\PC\\Google Drive\\PROJETOS\\rapidogas_projetos\\Relatórios de envio de mensagens\"\n",
    "    extensao = \"html\"\n",
    "    arquivosHtml = listarNomeArquivos(localRelatorios, extensao)\n",
    "    qntInclusoes = 0\n",
    "    qntTotalInclusoes = 0\n",
    "    listaInvalidos = []\n",
    "    for item in arquivosHtml:\n",
    "        listaInvalidos, qntInclusoes = listarNumerosInvalidos(item)\n",
    "        qntTotalInclusoes += qntInclusoes\n",
    "        salvarNumeros(listaInvalidos)\n",
    "        print(f\"Arquivo: {item} - {qntInclusoes} números inválidos\")\n",
    "        \n",
    "    print(f\"Total inclusoes: {qntTotalInclusoes}\")\n",
    "\n",
    "\n"
   ]
  },
  {
   "cell_type": "code",
   "execution_count": 29,
   "metadata": {},
   "outputs": [],
   "source": [
    "#executar()\n",
    "\n"
   ]
  }
 ],
 "metadata": {
  "kernelspec": {
   "display_name": "Python 3",
   "language": "python",
   "name": "python3"
  },
  "language_info": {
   "codemirror_mode": {
    "name": "ipython",
    "version": 3
   },
   "file_extension": ".py",
   "mimetype": "text/x-python",
   "name": "python",
   "nbconvert_exporter": "python",
   "pygments_lexer": "ipython3",
   "version": "3.8.5"
  }
 },
 "nbformat": 4,
 "nbformat_minor": 4
}
