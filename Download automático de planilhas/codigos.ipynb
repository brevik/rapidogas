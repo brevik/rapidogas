{
 "cells": [
  {
   "cell_type": "markdown",
   "metadata": {},
   "source": [
    "# Projeto Download automático de planilhas\n",
    "### Realizar o download automático das planilhas de relatório de vendas exportadas pelo sistema KP Delivery que servirão de base de dados para costrução do painel de BI"
   ]
  },
  {
   "cell_type": "code",
   "execution_count": 1,
   "metadata": {},
   "outputs": [],
   "source": [
    "from selenium import webdriver\n",
    "from webdriver_manager.chrome import ChromeDriverManager\n",
    "from selenium.webdriver.chrome.service import Service\n",
    "import os\n",
    "import time\n",
    "\n",
    "def downloadPlanilhaRelatorio():\n",
    "    \n",
    "    with open(\"config.txt\", \"r\", encoding=\"utf-8\") as arq:\n",
    "        dados = arq.readlines()\n",
    "        \n",
    "    #definições\n",
    "    usuario = dados[0]\n",
    "    senha = dados[1]\n",
    "    dataInicial = dados[2]\n",
    "    dataFinal = dados[3]\n",
    "\n",
    "    #xpaths\n",
    "    xpath_login = '//*[@id=\"UserName\"]'\n",
    "    xpath_senha = '//*[@id=\"Password\"]'\n",
    "    xpath_botaoEnviar = '/html/body/div[3]/div/div/form/div/div[4]/div/button'\n",
    "    xpath_dataInicial = '//*[@id=\"DataInicial\"]'\n",
    "    xpath_dataFinal = '//*[@id=\"DataFinal\"]'\n",
    "    xpath_formatoExcel = '//*[@id=\"Formato\"]/option[2]'\n",
    "    xpath_botaoEmitir = '/html/body/div[3]/form/div/div[13]/div/button'\n",
    "\n",
    "    \n",
    "    servico = Service(ChromeDriverManager().install())\n",
    "    navegador = webdriver.Chrome(service=servico)\n",
    "\n",
    "    #logar no sistema\n",
    "    navegador.get(\"https://kpdelivery.com.br/\")\n",
    "    navegador.find_element(\"xpath\",xpath_login).send_keys(usuario)\n",
    "    navegador.find_element(\"xpath\",xpath_senha).send_keys(senha)\n",
    "    time.sleep(5)\n",
    "\n",
    "    #navegador.find_element(\"xpath\",xpath_botaoEnviar).click()\n",
    "\n",
    "    #página de relatório de clientes\n",
    "    navegador.get('https://kpdelivery.com.br/RelVendasCliente')\n",
    "    time.sleep(2) \n",
    "    \n",
    "    #definir datas do relatório\n",
    "    navegador.find_element(\"xpath\",xpath_dataInicial).send_keys(dataInicial)\n",
    "    navegador.find_element(\"xpath\",xpath_dataFinal).send_keys(dataFinal)\n",
    "    navegador.find_element(\"xpath\",xpath_formatoExcel).click()\n",
    "    time.sleep(2)\n",
    "\n",
    "    navegador.find_element(\"xpath\",xpath_botaoEmitir).click()\n",
    "    time.sleep(7)\n",
    "    print(\"Download realizado com sucesso!\")\n",
    "    \n",
    "    navegador.close()\n",
    "    #retornar ano e mês do relatório\n",
    "    return dataInicial[6:10], dataInicial[3:5]\n",
    "\n",
    "    \n",
    "\n",
    "def arquivoMaisRecente():\n",
    "\n",
    "    caminhoDownload = r\"C:\\Users\\PC\\Downloads\"\n",
    "    lista_arquivos = os.listdir(caminhoDownload)\n",
    "    lista_datas = []\n",
    "\n",
    "    for arquivo in lista_arquivos:\n",
    "        if \".xlsx\" in arquivo:\n",
    "            data = os.path.getmtime(f\"{caminhoDownload}/{arquivo}\")\n",
    "            lista_datas.append((data, arquivo))\n",
    "\n",
    "    lista_datas.sort(reverse=True)\n",
    "\n",
    "    print(\"Arquivo mais recente na pasta: \" + lista_datas[0][1])\n",
    "    return lista_datas[0][1]\n",
    "\n",
    "def moverArquivoPastaRelatorio(nomeArquivo, ano, mes):\n",
    "    caminhoFinal = r\"C:\\Users\\PC\\Google Drive\\PROJETOS\\rapidogas_projetos\\rapidogas_projetos\\BI\\Dashboards em PowerBI\\VENDAS\"\n",
    "    \n",
    "    caminhoDownload = r\"C:\\Users\\PC\\Downloads\"\n",
    "    \n",
    "    try:\n",
    "        os.rename(f\"{caminhoDownload}/{nomeArquivo}\", f\"{caminhoFinal}/VENDAS-{ano}{mes}.xlsx\")\n",
    "        print(\"Arquivo salvo: \\n\" + f\"{caminhoFinal}/VENDAS-{ano}{mes}.xlsx\")\n",
    "    except FileExistsError as erro:\n",
    "        os.remove(f\"{caminhoFinal}/VENDAS-{ano}{mes}.xlsx\")\n",
    "        print(\"Arquivo já existente será subtituído\")\n",
    "        moverArquivoPastaRelatorio(nomeArquivo, ano, mes)\n",
    "    \n",
    "    \n"
   ]
  },
  {
   "cell_type": "code",
   "execution_count": 5,
   "metadata": {},
   "outputs": [
    {
     "name": "stdout",
     "output_type": "stream",
     "text": [
      "\n"
     ]
    },
    {
     "name": "stderr",
     "output_type": "stream",
     "text": [
      "[WDM] - ====== WebDriver manager ======\n",
      "[WDM] - Current google-chrome version is 111.0.5563\n",
      "[WDM] - Get LATEST chromedriver version for 111.0.5563 google-chrome\n",
      "[WDM] - Driver [C:\\Users\\PC\\.wdm\\drivers\\chromedriver\\win32\\111.0.5563.64\\chromedriver.exe] found in cache\n"
     ]
    },
    {
     "name": "stdout",
     "output_type": "stream",
     "text": [
      "Download realizado com sucesso!\n",
      "Arquivo mais recente na pasta: RelVendasCliente.xlsx\n",
      "Arquivo já existente será subtituído\n",
      "Arquivo salvo: \n",
      "C:\\Users\\PC\\Google Drive\\PROJETOS\\rapidogas_projetos\\rapidogas_projetos\\BI\\Dashboards em PowerBI\\VENDAS/VENDAS-202303.xlsx\n"
     ]
    }
   ],
   "source": [
    "ano, mes = downloadPlanilhaRelatorio()\n",
    "nomeArquivo = arquivoMaisRecente()\n",
    "moverArquivoPastaRelatorio(nomeArquivo, ano, mes)"
   ]
  }
 ],
 "metadata": {
  "kernelspec": {
   "display_name": "Python 3",
   "language": "python",
   "name": "python3"
  },
  "language_info": {
   "codemirror_mode": {
    "name": "ipython",
    "version": 3
   },
   "file_extension": ".py",
   "mimetype": "text/x-python",
   "name": "python",
   "nbconvert_exporter": "python",
   "pygments_lexer": "ipython3",
   "version": "3.8.5"
  }
 },
 "nbformat": 4,
 "nbformat_minor": 4
}
