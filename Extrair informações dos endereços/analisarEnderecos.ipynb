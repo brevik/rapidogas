{
 "cells": [
  {
   "cell_type": "markdown",
   "metadata": {},
   "source": [
    "# Extraíndo informações de endereços \n",
    "\n",
    "- Testando a biblioteca 'fuzzywuzzy' para reconhecimento de frases semelhantes\n",
    "- Funções para extrair os números dos blocos e apartamentos de um endereço"
   ]
  },
  {
   "cell_type": "code",
   "execution_count": 3,
   "metadata": {},
   "outputs": [],
   "source": [
    "import numpy as np\n",
    "import pandas as pd\n",
    "from fuzzywuzzy import fuzz\n",
    "from unidecode import unidecode"
   ]
  },
  {
   "cell_type": "code",
   "execution_count": 4,
   "metadata": {},
   "outputs": [
    {
     "name": "stdout",
     "output_type": "stream",
     "text": [
      "100\n"
     ]
    }
   ],
   "source": [
    "dado = pd.read_excel(\"RelVendasCliente.xlsx\")\n",
    "\n",
    "lista_end = dado[\"Endereço\"].head(10)\n",
    "frase = \"Planalto turu\"\n",
    "s1 = unidecode(frase)\n",
    "a = 0\n",
    "for i in lista_end:\n",
    "    s2 = unidecode(i)\n",
    "    a += 1\n",
    "    limiar = fuzz.token_set_ratio(s2, s1)\n",
    "    if limiar > 80:\n",
    "        print(limiar)\n"
   ]
  },
  {
   "cell_type": "code",
   "execution_count": 7,
   "metadata": {},
   "outputs": [
    {
     "name": "stdout",
     "output_type": "stream",
     "text": [
      "81\n"
     ]
    }
   ],
   "source": [
    "\n",
    "\n",
    "text = \"Rua Oito, 0 CASTELO DEL MARE1-301 Conjunto Habitacional Turu São Luís/MA\"\n",
    "search_string = \"CASTELO DEL MARE\"\n",
    "\n",
    "string_com_acentos = unidecode(text)\n",
    "string_sem_acentos = unidecode(search_string)\n",
    "\n",
    "print(fuzz.token_set_ratio(string_com_acentos, string_sem_acentos))\n"
   ]
  },
  {
   "cell_type": "code",
   "execution_count": 5,
   "metadata": {},
   "outputs": [],
   "source": [
    "def extrairBloco(endereco):\n",
    "    if \"-\" in str(endereco):\n",
    "        for a in endereco.split(\" \"):\n",
    "            if \"-\" in a:\n",
    "                return a[:a.find(\"-\")]\n",
    "                break\n",
    "    else:\n",
    "        return 0\n",
    "                    \n",
    "def extrairApartamento(endereco):\n",
    "    if \"-\" in str(endereco):\n",
    "        for a in endereco.split(\" \"):\n",
    "            if \"-\" in a:\n",
    "                return ''.join( x for x in a[a.find(\"-\")+1:] if x not in \",\")\n",
    "                break\n",
    "    else:\n",
    "        return 0\n",
    "    \n",
    "    \n",
    "#dado[\"Bloco\"] = dado[\"Endereço\"].apply(extrairBloco)    \n",
    "#dado[\"Apartamento\"] = dado[\"Endereço\"].apply(extrairApartamento)\n",
    "\n",
    "#dado.loc[150:200]"
   ]
  }
 ],
 "metadata": {
  "kernelspec": {
   "display_name": "Python 3",
   "language": "python",
   "name": "python3"
  },
  "language_info": {
   "codemirror_mode": {
    "name": "ipython",
    "version": 3
   },
   "file_extension": ".py",
   "mimetype": "text/x-python",
   "name": "python",
   "nbconvert_exporter": "python",
   "pygments_lexer": "ipython3",
   "version": "3.8.5"
  }
 },
 "nbformat": 4,
 "nbformat_minor": 1
}
